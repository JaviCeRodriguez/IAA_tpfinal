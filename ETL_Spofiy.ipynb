{
  "cells": [
    {
      "attachments": {},
      "cell_type": "markdown",
      "id": "3c754d38",
      "metadata": {},
      "source": [
        "# ETL"
      ]
    },
    {
      "cell_type": "code",
      "execution_count": 1,
      "id": "292c750b-ccb7-4337-9775-690e3b3e5e3c",
      "metadata": {
        "id": "292c750b-ccb7-4337-9775-690e3b3e5e3c"
      },
      "outputs": [],
      "source": [
        "import os\n",
        "import pandas as pd\n",
        "import spotipy\n",
        "from spotipy.oauth2 import SpotifyClientCredentials"
      ]
    },
    {
      "cell_type": "code",
      "execution_count": 2,
      "id": "VNjV_luWQvAq",
      "metadata": {
        "id": "VNjV_luWQvAq"
      },
      "outputs": [],
      "source": [
        "from tqdm import tqdm\n",
        "from spotipy import Spotify\n",
        "from pandas import DataFrame\n",
        "\n",
        "def get_playlist_info(playlist: dict, genre: str):\n",
        "    return {\n",
        "        \"id\": playlist[\"id\"],\n",
        "        \"genre\": genre \n",
        "    }\n",
        "\n",
        "\n",
        "def get_track_info(track,genre):\n",
        "    return {\n",
        "        \"id\": track[\"id\"],\n",
        "        \"name\": track[\"name\"],\n",
        "        \"album_id\": track[\"album\"][\"id\"],\n",
        "        \"genre\":genre\n",
        "    }\n",
        "\n",
        "\n",
        "def get_tracks_from_playlists(playlists: DataFrame, sp: Spotify):\n",
        "    tracks_playlists = []\n",
        "    errors = []\n",
        "\n",
        "    for idx, playlist_id in enumerate(tqdm(playlists[\"id\"])):\n",
        "        try:\n",
        "            # TODO: get all tracks from playlist\n",
        "            playlist_tracks = sp.playlist_tracks(playlist_id=playlist_id)\n",
        "            tracks_playlist = [get_track_info(item[\"track\"],playlists[\"genre\"][idx]) for item in playlist_tracks[\"items\"]]\n",
        "            tracks_playlists += tracks_playlist\n",
        "        except TypeError as err:\n",
        "            # print(f\"Error en fila {idx}\", err)\n",
        "            errors.append(f\"Error en fila {idx}, {err}\")\n",
        "            continue\n",
        "    \n",
        "    print('Errors: ', errors)\n",
        "\n",
        "    return tracks_playlists"
      ]
    },
    {
      "cell_type": "code",
      "execution_count": 3,
      "id": "67ddc2fe-0392-4b7c-bc66-eb388ee5c7b8",
      "metadata": {
        "id": "67ddc2fe-0392-4b7c-bc66-eb388ee5c7b8",
        "jupyter": {
          "source_hidden": true
        }
      },
      "outputs": [],
      "source": [
        "genres_seeds = [  \n",
        "    \"rock\",\"pop\",\"k-pop\",\"hip-hop\"\n",
        "]"
      ]
    },
    {
      "cell_type": "code",
      "execution_count": 4,
      "id": "57e79d50-644a-4b18-9df9-83182e63f25a",
      "metadata": {
        "id": "57e79d50-644a-4b18-9df9-83182e63f25a"
      },
      "outputs": [],
      "source": [
        "# Spotify API credentials\n",
        "client_id = '5ab3d5c1f176456788d74a39134a4c23'\n",
        "client_secret = 'ed854e82eb764dc8ac60331cc7afdf65'"
      ]
    },
    {
      "cell_type": "code",
      "execution_count": 5,
      "id": "06ee5973-4ff2-4c56-8712-d72a4032ca6d",
      "metadata": {
        "id": "06ee5973-4ff2-4c56-8712-d72a4032ca6d"
      },
      "outputs": [],
      "source": [
        "# Spotify API authentication\n",
        "client_credentials_manager = SpotifyClientCredentials(\n",
        "    client_id=client_id,\n",
        "    client_secret=client_secret\n",
        ")\n",
        "sp = spotipy.Spotify(\n",
        "    client_credentials_manager=client_credentials_manager\n",
        ")"
      ]
    },
    {
      "cell_type": "code",
      "execution_count": 6,
      "id": "0d18ea7c",
      "metadata": {
        "colab": {
          "base_uri": "https://localhost:8080/",
          "height": 390
        },
        "id": "0d18ea7c",
        "outputId": "d12a58a0-6c18-413e-c9fb-0bf22bcada29"
      },
      "outputs": [
        {
          "name": "stdout",
          "output_type": "stream",
          "text": [
            "1\n",
            "1\n",
            "1\n",
            "1\n",
            "Shape playlists (20, 2)\n",
            "Null in id col of playlists False    20\n",
            "Name: id, dtype: int64\n",
            "Null in id col of playlists False    20\n",
            "Name: id, dtype: int64\n"
          ]
        },
        {
          "data": {
            "text/html": [
              "<div>\n",
              "<style scoped>\n",
              "    .dataframe tbody tr th:only-of-type {\n",
              "        vertical-align: middle;\n",
              "    }\n",
              "\n",
              "    .dataframe tbody tr th {\n",
              "        vertical-align: top;\n",
              "    }\n",
              "\n",
              "    .dataframe thead th {\n",
              "        text-align: right;\n",
              "    }\n",
              "</style>\n",
              "<table border=\"1\" class=\"dataframe\">\n",
              "  <thead>\n",
              "    <tr style=\"text-align: right;\">\n",
              "      <th></th>\n",
              "      <th>id</th>\n",
              "      <th>genre</th>\n",
              "    </tr>\n",
              "  </thead>\n",
              "  <tbody>\n",
              "    <tr>\n",
              "      <th>0</th>\n",
              "      <td>37i9dQZF1EQpj7X7UK8OOF</td>\n",
              "      <td>rock</td>\n",
              "    </tr>\n",
              "    <tr>\n",
              "      <th>1</th>\n",
              "      <td>0A2rkMxcYxzYsNRSCdvHyh</td>\n",
              "      <td>rock</td>\n",
              "    </tr>\n",
              "    <tr>\n",
              "      <th>2</th>\n",
              "      <td>37i9dQZF1DWXRqgorJj26U</td>\n",
              "      <td>rock</td>\n",
              "    </tr>\n",
              "    <tr>\n",
              "      <th>3</th>\n",
              "      <td>2cCaCNdvbqrnIzpsbQc7jF</td>\n",
              "      <td>rock</td>\n",
              "    </tr>\n",
              "    <tr>\n",
              "      <th>4</th>\n",
              "      <td>0nlB4rZ5Ng82YoDvOHYqaf</td>\n",
              "      <td>rock</td>\n",
              "    </tr>\n",
              "  </tbody>\n",
              "</table>\n",
              "</div>"
            ],
            "text/plain": [
              "                       id genre\n",
              "0  37i9dQZF1EQpj7X7UK8OOF  rock\n",
              "1  0A2rkMxcYxzYsNRSCdvHyh  rock\n",
              "2  37i9dQZF1DWXRqgorJj26U  rock\n",
              "3  2cCaCNdvbqrnIzpsbQc7jF  rock\n",
              "4  0nlB4rZ5Ng82YoDvOHYqaf  rock"
            ]
          },
          "execution_count": 6,
          "metadata": {},
          "output_type": "execute_result"
        }
      ],
      "source": [
        "playlists = []\n",
        "\n",
        "for genre in genres_seeds:\n",
        "    # Search playlists by genre\n",
        "    playlists_data = sp.search(q=genre, type='playlist', limit=5, offset=0)\n",
        "    print(len(playlists_data))\n",
        "    playlists += [\n",
        "        get_playlist_info(playlist, genre)\n",
        "        for playlist in playlists_data['playlists']['items']\n",
        "    ]\n",
        "\n",
        "df_playlists = pd.DataFrame(playlists)\n",
        "print(f'Shape playlists', df_playlists.shape)\n",
        "\n",
        "# Validation of playlists with null values\n",
        "print(f'Null in id col of playlists', df_playlists[\"id\"].isna().value_counts())\n",
        "\n",
        "# Delete rows with null values\n",
        "df_playlists.dropna(inplace=True)\n",
        "print(f'Null in id col of playlists', df_playlists[\"id\"].isna().value_counts())\n",
        "\n",
        "df_playlists.head()"
      ]
    },
    {
      "cell_type": "code",
      "execution_count": 7,
      "id": "x6qgUwnQbZ0j",
      "metadata": {
        "id": "x6qgUwnQbZ0j"
      },
      "outputs": [],
      "source": [
        "playlists_data = sp.search(q=\"rock\", type='playlist', limit=1, offset=0)"
      ]
    },
    {
      "cell_type": "code",
      "execution_count": 15,
      "id": "7c8e511d",
      "metadata": {
        "id": "7c8e511d",
        "outputId": "1dc6aaf2-6e69-4b4a-83b0-f983fb497859"
      },
      "outputs": [
        {
          "name": "stderr",
          "output_type": "stream",
          "text": [
            "100%|██████████| 20/20 [00:13<00:00,  1.49it/s]"
          ]
        },
        {
          "name": "stdout",
          "output_type": "stream",
          "text": [
            "Errors:  [\"Error en fila 13, 'NoneType' object is not subscriptable\"]\n",
            "Shape tracks: (1307, 4)\n",
            "Null in id col of tracks: False    1307\n",
            "Name: id, dtype: int64\n",
            "Null in id col of tracks: False    1307\n",
            "Name: id, dtype: int64\n",
            "Shape tracks (without duplicates): (1127, 4)\n"
          ]
        },
        {
          "name": "stderr",
          "output_type": "stream",
          "text": [
            "\n"
          ]
        }
      ],
      "source": [
        "# Get tracks from playlists\n",
        "tracks_playlists = get_tracks_from_playlists(playlists=df_playlists, sp=sp)\n",
        "df_tracks = pd.DataFrame(tracks_playlists)\n",
        "print('Shape tracks:', df_tracks.shape)\n",
        "\n",
        "# Validation of tracks with null values\n",
        "print('Null in id col of tracks:', df_tracks[\"id\"].isna().value_counts())\n",
        "\n",
        "# Delete rows with null values\n",
        "df_tracks.dropna(inplace=True)\n",
        "print('Null in id col of tracks:', df_tracks[\"id\"].isna().value_counts())\n",
        "\n",
        "# Delete duplicates by id\n",
        "df_tracks.drop_duplicates(subset=[\"id\"], inplace=True)\n",
        "print('Shape tracks (without duplicates):', df_tracks.shape)"
      ]
    },
    {
      "cell_type": "code",
      "execution_count": 9,
      "id": "97a37c6d",
      "metadata": {
        "id": "97a37c6d"
      },
      "outputs": [
        {
          "ename": "OSError",
          "evalue": "Cannot save file into a non-existent directory: 'datasets'",
          "output_type": "error",
          "traceback": [
            "\u001b[0;31m---------------------------------------------------------------------------\u001b[0m",
            "\u001b[0;31mOSError\u001b[0m                                   Traceback (most recent call last)",
            "Cell \u001b[0;32mIn[9], line 2\u001b[0m\n\u001b[1;32m      1\u001b[0m \u001b[39m# Save df_tracks to csv\u001b[39;00m\n\u001b[0;32m----> 2\u001b[0m df_tracks\u001b[39m.\u001b[39;49mto_csv(\u001b[39m'\u001b[39;49m\u001b[39m./datasets/tracks.csv\u001b[39;49m\u001b[39m'\u001b[39;49m, index\u001b[39m=\u001b[39;49m\u001b[39mFalse\u001b[39;49;00m)\n",
            "File \u001b[0;32m~/anaconda3/lib/python3.9/site-packages/pandas/core/generic.py:3551\u001b[0m, in \u001b[0;36mNDFrame.to_csv\u001b[0;34m(self, path_or_buf, sep, na_rep, float_format, columns, header, index, index_label, mode, encoding, compression, quoting, quotechar, line_terminator, chunksize, date_format, doublequote, escapechar, decimal, errors, storage_options)\u001b[0m\n\u001b[1;32m   3540\u001b[0m df \u001b[39m=\u001b[39m \u001b[39mself\u001b[39m \u001b[39mif\u001b[39;00m \u001b[39misinstance\u001b[39m(\u001b[39mself\u001b[39m, ABCDataFrame) \u001b[39melse\u001b[39;00m \u001b[39mself\u001b[39m\u001b[39m.\u001b[39mto_frame()\n\u001b[1;32m   3542\u001b[0m formatter \u001b[39m=\u001b[39m DataFrameFormatter(\n\u001b[1;32m   3543\u001b[0m     frame\u001b[39m=\u001b[39mdf,\n\u001b[1;32m   3544\u001b[0m     header\u001b[39m=\u001b[39mheader,\n\u001b[0;32m   (...)\u001b[0m\n\u001b[1;32m   3548\u001b[0m     decimal\u001b[39m=\u001b[39mdecimal,\n\u001b[1;32m   3549\u001b[0m )\n\u001b[0;32m-> 3551\u001b[0m \u001b[39mreturn\u001b[39;00m DataFrameRenderer(formatter)\u001b[39m.\u001b[39;49mto_csv(\n\u001b[1;32m   3552\u001b[0m     path_or_buf,\n\u001b[1;32m   3553\u001b[0m     line_terminator\u001b[39m=\u001b[39;49mline_terminator,\n\u001b[1;32m   3554\u001b[0m     sep\u001b[39m=\u001b[39;49msep,\n\u001b[1;32m   3555\u001b[0m     encoding\u001b[39m=\u001b[39;49mencoding,\n\u001b[1;32m   3556\u001b[0m     errors\u001b[39m=\u001b[39;49merrors,\n\u001b[1;32m   3557\u001b[0m     compression\u001b[39m=\u001b[39;49mcompression,\n\u001b[1;32m   3558\u001b[0m     quoting\u001b[39m=\u001b[39;49mquoting,\n\u001b[1;32m   3559\u001b[0m     columns\u001b[39m=\u001b[39;49mcolumns,\n\u001b[1;32m   3560\u001b[0m     index_label\u001b[39m=\u001b[39;49mindex_label,\n\u001b[1;32m   3561\u001b[0m     mode\u001b[39m=\u001b[39;49mmode,\n\u001b[1;32m   3562\u001b[0m     chunksize\u001b[39m=\u001b[39;49mchunksize,\n\u001b[1;32m   3563\u001b[0m     quotechar\u001b[39m=\u001b[39;49mquotechar,\n\u001b[1;32m   3564\u001b[0m     date_format\u001b[39m=\u001b[39;49mdate_format,\n\u001b[1;32m   3565\u001b[0m     doublequote\u001b[39m=\u001b[39;49mdoublequote,\n\u001b[1;32m   3566\u001b[0m     escapechar\u001b[39m=\u001b[39;49mescapechar,\n\u001b[1;32m   3567\u001b[0m     storage_options\u001b[39m=\u001b[39;49mstorage_options,\n\u001b[1;32m   3568\u001b[0m )\n",
            "File \u001b[0;32m~/anaconda3/lib/python3.9/site-packages/pandas/io/formats/format.py:1180\u001b[0m, in \u001b[0;36mDataFrameRenderer.to_csv\u001b[0;34m(self, path_or_buf, encoding, sep, columns, index_label, mode, compression, quoting, quotechar, line_terminator, chunksize, date_format, doublequote, escapechar, errors, storage_options)\u001b[0m\n\u001b[1;32m   1159\u001b[0m     created_buffer \u001b[39m=\u001b[39m \u001b[39mFalse\u001b[39;00m\n\u001b[1;32m   1161\u001b[0m csv_formatter \u001b[39m=\u001b[39m CSVFormatter(\n\u001b[1;32m   1162\u001b[0m     path_or_buf\u001b[39m=\u001b[39mpath_or_buf,\n\u001b[1;32m   1163\u001b[0m     line_terminator\u001b[39m=\u001b[39mline_terminator,\n\u001b[0;32m   (...)\u001b[0m\n\u001b[1;32m   1178\u001b[0m     formatter\u001b[39m=\u001b[39m\u001b[39mself\u001b[39m\u001b[39m.\u001b[39mfmt,\n\u001b[1;32m   1179\u001b[0m )\n\u001b[0;32m-> 1180\u001b[0m csv_formatter\u001b[39m.\u001b[39;49msave()\n\u001b[1;32m   1182\u001b[0m \u001b[39mif\u001b[39;00m created_buffer:\n\u001b[1;32m   1183\u001b[0m     \u001b[39massert\u001b[39;00m \u001b[39misinstance\u001b[39m(path_or_buf, StringIO)\n",
            "File \u001b[0;32m~/anaconda3/lib/python3.9/site-packages/pandas/io/formats/csvs.py:241\u001b[0m, in \u001b[0;36mCSVFormatter.save\u001b[0;34m(self)\u001b[0m\n\u001b[1;32m    237\u001b[0m \u001b[39m\"\"\"\u001b[39;00m\n\u001b[1;32m    238\u001b[0m \u001b[39mCreate the writer & save.\u001b[39;00m\n\u001b[1;32m    239\u001b[0m \u001b[39m\"\"\"\u001b[39;00m\n\u001b[1;32m    240\u001b[0m \u001b[39m# apply compression and byte/text conversion\u001b[39;00m\n\u001b[0;32m--> 241\u001b[0m \u001b[39mwith\u001b[39;00m get_handle(\n\u001b[1;32m    242\u001b[0m     \u001b[39mself\u001b[39;49m\u001b[39m.\u001b[39;49mfilepath_or_buffer,\n\u001b[1;32m    243\u001b[0m     \u001b[39mself\u001b[39;49m\u001b[39m.\u001b[39;49mmode,\n\u001b[1;32m    244\u001b[0m     encoding\u001b[39m=\u001b[39;49m\u001b[39mself\u001b[39;49m\u001b[39m.\u001b[39;49mencoding,\n\u001b[1;32m    245\u001b[0m     errors\u001b[39m=\u001b[39;49m\u001b[39mself\u001b[39;49m\u001b[39m.\u001b[39;49merrors,\n\u001b[1;32m    246\u001b[0m     compression\u001b[39m=\u001b[39;49m\u001b[39mself\u001b[39;49m\u001b[39m.\u001b[39;49mcompression,\n\u001b[1;32m    247\u001b[0m     storage_options\u001b[39m=\u001b[39;49m\u001b[39mself\u001b[39;49m\u001b[39m.\u001b[39;49mstorage_options,\n\u001b[1;32m    248\u001b[0m ) \u001b[39mas\u001b[39;00m handles:\n\u001b[1;32m    249\u001b[0m \n\u001b[1;32m    250\u001b[0m     \u001b[39m# Note: self.encoding is irrelevant here\u001b[39;00m\n\u001b[1;32m    251\u001b[0m     \u001b[39mself\u001b[39m\u001b[39m.\u001b[39mwriter \u001b[39m=\u001b[39m csvlib\u001b[39m.\u001b[39mwriter(\n\u001b[1;32m    252\u001b[0m         handles\u001b[39m.\u001b[39mhandle,\n\u001b[1;32m    253\u001b[0m         lineterminator\u001b[39m=\u001b[39m\u001b[39mself\u001b[39m\u001b[39m.\u001b[39mline_terminator,\n\u001b[0;32m   (...)\u001b[0m\n\u001b[1;32m    258\u001b[0m         quotechar\u001b[39m=\u001b[39m\u001b[39mself\u001b[39m\u001b[39m.\u001b[39mquotechar,\n\u001b[1;32m    259\u001b[0m     )\n\u001b[1;32m    261\u001b[0m     \u001b[39mself\u001b[39m\u001b[39m.\u001b[39m_save()\n",
            "File \u001b[0;32m~/anaconda3/lib/python3.9/site-packages/pandas/io/common.py:694\u001b[0m, in \u001b[0;36mget_handle\u001b[0;34m(path_or_buf, mode, encoding, compression, memory_map, is_text, errors, storage_options)\u001b[0m\n\u001b[1;32m    692\u001b[0m \u001b[39m# Only for write methods\u001b[39;00m\n\u001b[1;32m    693\u001b[0m \u001b[39mif\u001b[39;00m \u001b[39m\"\u001b[39m\u001b[39mr\u001b[39m\u001b[39m\"\u001b[39m \u001b[39mnot\u001b[39;00m \u001b[39min\u001b[39;00m mode \u001b[39mand\u001b[39;00m is_path:\n\u001b[0;32m--> 694\u001b[0m     check_parent_directory(\u001b[39mstr\u001b[39;49m(handle))\n\u001b[1;32m    696\u001b[0m \u001b[39mif\u001b[39;00m compression:\n\u001b[1;32m    697\u001b[0m     \u001b[39mif\u001b[39;00m compression \u001b[39m!=\u001b[39m \u001b[39m\"\u001b[39m\u001b[39mzstd\u001b[39m\u001b[39m\"\u001b[39m:\n\u001b[1;32m    698\u001b[0m         \u001b[39m# compression libraries do not like an explicit text-mode\u001b[39;00m\n",
            "File \u001b[0;32m~/anaconda3/lib/python3.9/site-packages/pandas/io/common.py:568\u001b[0m, in \u001b[0;36mcheck_parent_directory\u001b[0;34m(path)\u001b[0m\n\u001b[1;32m    566\u001b[0m parent \u001b[39m=\u001b[39m Path(path)\u001b[39m.\u001b[39mparent\n\u001b[1;32m    567\u001b[0m \u001b[39mif\u001b[39;00m \u001b[39mnot\u001b[39;00m parent\u001b[39m.\u001b[39mis_dir():\n\u001b[0;32m--> 568\u001b[0m     \u001b[39mraise\u001b[39;00m \u001b[39mOSError\u001b[39;00m(\u001b[39mrf\u001b[39m\u001b[39m\"\u001b[39m\u001b[39mCannot save file into a non-existent directory: \u001b[39m\u001b[39m'\u001b[39m\u001b[39m{\u001b[39;00mparent\u001b[39m}\u001b[39;00m\u001b[39m'\u001b[39m\u001b[39m\"\u001b[39m)\n",
            "\u001b[0;31mOSError\u001b[0m: Cannot save file into a non-existent directory: 'datasets'"
          ]
        }
      ],
      "source": [
        "# Save df_tracks to csv\n",
        "#df_tracks.to_csv('./datasets/tracks.csv', index=False)"
      ]
    },
    {
      "cell_type": "code",
      "execution_count": 16,
      "id": "ae1d876d",
      "metadata": {
        "id": "ae1d876d",
        "outputId": "3806443f-8526-48f2-c388-d50d1b74504e"
      },
      "outputs": [
        {
          "name": "stderr",
          "output_type": "stream",
          "text": [
            "100%|██████████| 12/12 [00:06<00:00,  1.84it/s]"
          ]
        },
        {
          "name": "stdout",
          "output_type": "stream",
          "text": [
            "Shape audio features: (1127, 18)\n"
          ]
        },
        {
          "name": "stderr",
          "output_type": "stream",
          "text": [
            "\n"
          ]
        }
      ],
      "source": [
        "# Get audio features from tracks\n",
        "audio_features = []\n",
        "\n",
        "for n in tqdm(range(len(df_tracks) // 100 + 1)):\n",
        "    df_track_pack = df_tracks.iloc[n*100:(n+1)*100]\n",
        "    audio_features_pack = sp.audio_features(tracks=list(df_track_pack['id']))\n",
        "    audio_features += audio_features_pack\n",
        "\n",
        "df_audio_features = pd.DataFrame(audio_features)\n",
        "print('Shape audio features:', df_audio_features.shape)"
      ]
    },
    {
      "cell_type": "code",
      "execution_count": 17,
      "id": "035719ac",
      "metadata": {
        "id": "035719ac",
        "outputId": "832ee59c-90b2-45e1-b7d5-10c326fb9c73"
      },
      "outputs": [
        {
          "name": "stdout",
          "output_type": "stream",
          "text": [
            "Number of None values in audio features: 0\n"
          ]
        }
      ],
      "source": [
        "idx_af_bads = []\n",
        "for idx, af in enumerate(audio_features):\n",
        "    if af is None:\n",
        "        idx_af_bads.append(idx)\n",
        "\n",
        "print('Number of None values in audio features:', len(idx_af_bads))"
      ]
    },
    {
      "cell_type": "code",
      "execution_count": 18,
      "id": "f5b318f1",
      "metadata": {
        "id": "f5b318f1",
        "outputId": "4c690dfd-bbf8-49bf-83c4-b4fa897228b6"
      },
      "outputs": [
        {
          "name": "stdout",
          "output_type": "stream",
          "text": [
            "Shape audio features (without None values): (1127, 18)\n"
          ]
        },
        {
          "data": {
            "text/html": [
              "<div>\n",
              "<style scoped>\n",
              "    .dataframe tbody tr th:only-of-type {\n",
              "        vertical-align: middle;\n",
              "    }\n",
              "\n",
              "    .dataframe tbody tr th {\n",
              "        vertical-align: top;\n",
              "    }\n",
              "\n",
              "    .dataframe thead th {\n",
              "        text-align: right;\n",
              "    }\n",
              "</style>\n",
              "<table border=\"1\" class=\"dataframe\">\n",
              "  <thead>\n",
              "    <tr style=\"text-align: right;\">\n",
              "      <th></th>\n",
              "      <th>danceability</th>\n",
              "      <th>energy</th>\n",
              "      <th>key</th>\n",
              "      <th>loudness</th>\n",
              "      <th>mode</th>\n",
              "      <th>speechiness</th>\n",
              "      <th>acousticness</th>\n",
              "      <th>instrumentalness</th>\n",
              "      <th>liveness</th>\n",
              "      <th>valence</th>\n",
              "      <th>tempo</th>\n",
              "      <th>type</th>\n",
              "      <th>id</th>\n",
              "      <th>uri</th>\n",
              "      <th>track_href</th>\n",
              "      <th>analysis_url</th>\n",
              "      <th>duration_ms</th>\n",
              "      <th>time_signature</th>\n",
              "    </tr>\n",
              "  </thead>\n",
              "  <tbody>\n",
              "    <tr>\n",
              "      <th>0</th>\n",
              "      <td>0.633</td>\n",
              "      <td>0.809</td>\n",
              "      <td>1</td>\n",
              "      <td>-8.595</td>\n",
              "      <td>0</td>\n",
              "      <td>0.0282</td>\n",
              "      <td>0.103000</td>\n",
              "      <td>0.611000</td>\n",
              "      <td>0.0726</td>\n",
              "      <td>0.964</td>\n",
              "      <td>147.916</td>\n",
              "      <td>audio_features</td>\n",
              "      <td>2RBcYkonAofm0rYycVrCGt</td>\n",
              "      <td>spotify:track:2RBcYkonAofm0rYycVrCGt</td>\n",
              "      <td>https://api.spotify.com/v1/tracks/2RBcYkonAofm...</td>\n",
              "      <td>https://api.spotify.com/v1/audio-analysis/2RBc...</td>\n",
              "      <td>224667</td>\n",
              "      <td>4</td>\n",
              "    </tr>\n",
              "    <tr>\n",
              "      <th>1</th>\n",
              "      <td>0.390</td>\n",
              "      <td>0.649</td>\n",
              "      <td>2</td>\n",
              "      <td>-5.163</td>\n",
              "      <td>1</td>\n",
              "      <td>0.0345</td>\n",
              "      <td>0.172000</td>\n",
              "      <td>0.000000</td>\n",
              "      <td>0.2160</td>\n",
              "      <td>0.144</td>\n",
              "      <td>121.161</td>\n",
              "      <td>audio_features</td>\n",
              "      <td>5qlJg0Wbj3sslxfwiaRNpq</td>\n",
              "      <td>spotify:track:5qlJg0Wbj3sslxfwiaRNpq</td>\n",
              "      <td>https://api.spotify.com/v1/tracks/5qlJg0Wbj3ss...</td>\n",
              "      <td>https://api.spotify.com/v1/audio-analysis/5qlJ...</td>\n",
              "      <td>299723</td>\n",
              "      <td>4</td>\n",
              "    </tr>\n",
              "    <tr>\n",
              "      <th>2</th>\n",
              "      <td>0.640</td>\n",
              "      <td>0.663</td>\n",
              "      <td>0</td>\n",
              "      <td>-7.516</td>\n",
              "      <td>1</td>\n",
              "      <td>0.0374</td>\n",
              "      <td>0.201000</td>\n",
              "      <td>0.008060</td>\n",
              "      <td>0.1520</td>\n",
              "      <td>0.663</td>\n",
              "      <td>132.770</td>\n",
              "      <td>audio_features</td>\n",
              "      <td>4BP3uh0hFLFRb5cjsgLqDh</td>\n",
              "      <td>spotify:track:4BP3uh0hFLFRb5cjsgLqDh</td>\n",
              "      <td>https://api.spotify.com/v1/tracks/4BP3uh0hFLFR...</td>\n",
              "      <td>https://api.spotify.com/v1/audio-analysis/4BP3...</td>\n",
              "      <td>140773</td>\n",
              "      <td>4</td>\n",
              "    </tr>\n",
              "    <tr>\n",
              "      <th>3</th>\n",
              "      <td>0.754</td>\n",
              "      <td>0.759</td>\n",
              "      <td>9</td>\n",
              "      <td>-5.218</td>\n",
              "      <td>1</td>\n",
              "      <td>0.3020</td>\n",
              "      <td>0.153000</td>\n",
              "      <td>0.000108</td>\n",
              "      <td>0.1010</td>\n",
              "      <td>0.435</td>\n",
              "      <td>126.366</td>\n",
              "      <td>audio_features</td>\n",
              "      <td>7LRMbd3LEoV5wZJvXT1Lwb</td>\n",
              "      <td>spotify:track:7LRMbd3LEoV5wZJvXT1Lwb</td>\n",
              "      <td>https://api.spotify.com/v1/tracks/7LRMbd3LEoV5...</td>\n",
              "      <td>https://api.spotify.com/v1/audio-analysis/7LRM...</td>\n",
              "      <td>214667</td>\n",
              "      <td>4</td>\n",
              "    </tr>\n",
              "    <tr>\n",
              "      <th>4</th>\n",
              "      <td>0.429</td>\n",
              "      <td>0.631</td>\n",
              "      <td>4</td>\n",
              "      <td>-11.514</td>\n",
              "      <td>0</td>\n",
              "      <td>0.0769</td>\n",
              "      <td>0.000078</td>\n",
              "      <td>0.004110</td>\n",
              "      <td>0.1750</td>\n",
              "      <td>0.376</td>\n",
              "      <td>162.734</td>\n",
              "      <td>audio_features</td>\n",
              "      <td>1jzDzZWeSDBg5fhNc3tczV</td>\n",
              "      <td>spotify:track:1jzDzZWeSDBg5fhNc3tczV</td>\n",
              "      <td>https://api.spotify.com/v1/tracks/1jzDzZWeSDBg...</td>\n",
              "      <td>https://api.spotify.com/v1/audio-analysis/1jzD...</td>\n",
              "      <td>168440</td>\n",
              "      <td>4</td>\n",
              "    </tr>\n",
              "  </tbody>\n",
              "</table>\n",
              "</div>"
            ],
            "text/plain": [
              "   danceability  energy  key  loudness  mode  speechiness  acousticness  \\\n",
              "0         0.633   0.809    1    -8.595     0       0.0282      0.103000   \n",
              "1         0.390   0.649    2    -5.163     1       0.0345      0.172000   \n",
              "2         0.640   0.663    0    -7.516     1       0.0374      0.201000   \n",
              "3         0.754   0.759    9    -5.218     1       0.3020      0.153000   \n",
              "4         0.429   0.631    4   -11.514     0       0.0769      0.000078   \n",
              "\n",
              "   instrumentalness  liveness  valence    tempo            type  \\\n",
              "0          0.611000    0.0726    0.964  147.916  audio_features   \n",
              "1          0.000000    0.2160    0.144  121.161  audio_features   \n",
              "2          0.008060    0.1520    0.663  132.770  audio_features   \n",
              "3          0.000108    0.1010    0.435  126.366  audio_features   \n",
              "4          0.004110    0.1750    0.376  162.734  audio_features   \n",
              "\n",
              "                       id                                   uri  \\\n",
              "0  2RBcYkonAofm0rYycVrCGt  spotify:track:2RBcYkonAofm0rYycVrCGt   \n",
              "1  5qlJg0Wbj3sslxfwiaRNpq  spotify:track:5qlJg0Wbj3sslxfwiaRNpq   \n",
              "2  4BP3uh0hFLFRb5cjsgLqDh  spotify:track:4BP3uh0hFLFRb5cjsgLqDh   \n",
              "3  7LRMbd3LEoV5wZJvXT1Lwb  spotify:track:7LRMbd3LEoV5wZJvXT1Lwb   \n",
              "4  1jzDzZWeSDBg5fhNc3tczV  spotify:track:1jzDzZWeSDBg5fhNc3tczV   \n",
              "\n",
              "                                          track_href  \\\n",
              "0  https://api.spotify.com/v1/tracks/2RBcYkonAofm...   \n",
              "1  https://api.spotify.com/v1/tracks/5qlJg0Wbj3ss...   \n",
              "2  https://api.spotify.com/v1/tracks/4BP3uh0hFLFR...   \n",
              "3  https://api.spotify.com/v1/tracks/7LRMbd3LEoV5...   \n",
              "4  https://api.spotify.com/v1/tracks/1jzDzZWeSDBg...   \n",
              "\n",
              "                                        analysis_url  duration_ms  \\\n",
              "0  https://api.spotify.com/v1/audio-analysis/2RBc...       224667   \n",
              "1  https://api.spotify.com/v1/audio-analysis/5qlJ...       299723   \n",
              "2  https://api.spotify.com/v1/audio-analysis/4BP3...       140773   \n",
              "3  https://api.spotify.com/v1/audio-analysis/7LRM...       214667   \n",
              "4  https://api.spotify.com/v1/audio-analysis/1jzD...       168440   \n",
              "\n",
              "   time_signature  \n",
              "0               4  \n",
              "1               4  \n",
              "2               4  \n",
              "3               4  \n",
              "4               4  "
            ]
          },
          "execution_count": 18,
          "metadata": {},
          "output_type": "execute_result"
        }
      ],
      "source": [
        "# Delete None values in audio_features before convert to DataFrame\n",
        "audio_features = [af for af in audio_features if af is not None]\n",
        "df_audio_features = pd.DataFrame(audio_features)\n",
        "print('Shape audio features (without None values):', df_audio_features.shape)\n",
        "df_audio_features.head()"
      ]
    },
    {
      "cell_type": "code",
      "execution_count": null,
      "id": "2532f548",
      "metadata": {
        "id": "2532f548"
      },
      "outputs": [],
      "source": [
        "# Save df_audio_features to csv\n",
        "#df_audio_features.to_csv('./datasets/audio_features.csv', index=False)"
      ]
    },
    {
      "cell_type": "code",
      "execution_count": 19,
      "id": "02d0d021",
      "metadata": {
        "id": "02d0d021",
        "outputId": "cddc5d7e-e52a-4f88-9e9d-c6b792efddc7"
      },
      "outputs": [
        {
          "name": "stdout",
          "output_type": "stream",
          "text": [
            "Shape audio features (after merge with tracks): (1127, 21)\n"
          ]
        },
        {
          "data": {
            "text/html": [
              "<div>\n",
              "<style scoped>\n",
              "    .dataframe tbody tr th:only-of-type {\n",
              "        vertical-align: middle;\n",
              "    }\n",
              "\n",
              "    .dataframe tbody tr th {\n",
              "        vertical-align: top;\n",
              "    }\n",
              "\n",
              "    .dataframe thead th {\n",
              "        text-align: right;\n",
              "    }\n",
              "</style>\n",
              "<table border=\"1\" class=\"dataframe\">\n",
              "  <thead>\n",
              "    <tr style=\"text-align: right;\">\n",
              "      <th></th>\n",
              "      <th>id</th>\n",
              "      <th>name</th>\n",
              "      <th>album_id</th>\n",
              "      <th>genre</th>\n",
              "      <th>danceability</th>\n",
              "      <th>energy</th>\n",
              "      <th>key</th>\n",
              "      <th>loudness</th>\n",
              "      <th>mode</th>\n",
              "      <th>speechiness</th>\n",
              "      <th>...</th>\n",
              "      <th>instrumentalness</th>\n",
              "      <th>liveness</th>\n",
              "      <th>valence</th>\n",
              "      <th>tempo</th>\n",
              "      <th>type</th>\n",
              "      <th>uri</th>\n",
              "      <th>track_href</th>\n",
              "      <th>analysis_url</th>\n",
              "      <th>duration_ms</th>\n",
              "      <th>time_signature</th>\n",
              "    </tr>\n",
              "  </thead>\n",
              "  <tbody>\n",
              "    <tr>\n",
              "      <th>0</th>\n",
              "      <td>2RBcYkonAofm0rYycVrCGt</td>\n",
              "      <td>Lady Writer</td>\n",
              "      <td>2xQBCPq2gQ7l8thLUUZSKu</td>\n",
              "      <td>rock</td>\n",
              "      <td>0.633</td>\n",
              "      <td>0.809</td>\n",
              "      <td>1</td>\n",
              "      <td>-8.595</td>\n",
              "      <td>0</td>\n",
              "      <td>0.0282</td>\n",
              "      <td>...</td>\n",
              "      <td>0.611000</td>\n",
              "      <td>0.0726</td>\n",
              "      <td>0.964</td>\n",
              "      <td>147.916</td>\n",
              "      <td>audio_features</td>\n",
              "      <td>spotify:track:2RBcYkonAofm0rYycVrCGt</td>\n",
              "      <td>https://api.spotify.com/v1/tracks/2RBcYkonAofm...</td>\n",
              "      <td>https://api.spotify.com/v1/audio-analysis/2RBc...</td>\n",
              "      <td>224667</td>\n",
              "      <td>4</td>\n",
              "    </tr>\n",
              "    <tr>\n",
              "      <th>1</th>\n",
              "      <td>5qlJg0Wbj3sslxfwiaRNpq</td>\n",
              "      <td>I Don't Want To Miss A Thing - From \"Armageddo...</td>\n",
              "      <td>3fk5Yk62Lekng4NQ89980F</td>\n",
              "      <td>rock</td>\n",
              "      <td>0.390</td>\n",
              "      <td>0.649</td>\n",
              "      <td>2</td>\n",
              "      <td>-5.163</td>\n",
              "      <td>1</td>\n",
              "      <td>0.0345</td>\n",
              "      <td>...</td>\n",
              "      <td>0.000000</td>\n",
              "      <td>0.2160</td>\n",
              "      <td>0.144</td>\n",
              "      <td>121.161</td>\n",
              "      <td>audio_features</td>\n",
              "      <td>spotify:track:5qlJg0Wbj3sslxfwiaRNpq</td>\n",
              "      <td>https://api.spotify.com/v1/tracks/5qlJg0Wbj3ss...</td>\n",
              "      <td>https://api.spotify.com/v1/audio-analysis/5qlJ...</td>\n",
              "      <td>299723</td>\n",
              "      <td>4</td>\n",
              "    </tr>\n",
              "    <tr>\n",
              "      <th>2</th>\n",
              "      <td>4BP3uh0hFLFRb5cjsgLqDh</td>\n",
              "      <td>Fortunate Son</td>\n",
              "      <td>31q47gQszFt0CddSyMksgO</td>\n",
              "      <td>rock</td>\n",
              "      <td>0.640</td>\n",
              "      <td>0.663</td>\n",
              "      <td>0</td>\n",
              "      <td>-7.516</td>\n",
              "      <td>1</td>\n",
              "      <td>0.0374</td>\n",
              "      <td>...</td>\n",
              "      <td>0.008060</td>\n",
              "      <td>0.1520</td>\n",
              "      <td>0.663</td>\n",
              "      <td>132.770</td>\n",
              "      <td>audio_features</td>\n",
              "      <td>spotify:track:4BP3uh0hFLFRb5cjsgLqDh</td>\n",
              "      <td>https://api.spotify.com/v1/tracks/4BP3uh0hFLFR...</td>\n",
              "      <td>https://api.spotify.com/v1/audio-analysis/4BP3...</td>\n",
              "      <td>140773</td>\n",
              "      <td>4</td>\n",
              "    </tr>\n",
              "    <tr>\n",
              "      <th>3</th>\n",
              "      <td>7LRMbd3LEoV5wZJvXT1Lwb</td>\n",
              "      <td>T.N.T.</td>\n",
              "      <td>19AUoKWRAaQYrggVvdQnqq</td>\n",
              "      <td>rock</td>\n",
              "      <td>0.754</td>\n",
              "      <td>0.759</td>\n",
              "      <td>9</td>\n",
              "      <td>-5.218</td>\n",
              "      <td>1</td>\n",
              "      <td>0.3020</td>\n",
              "      <td>...</td>\n",
              "      <td>0.000108</td>\n",
              "      <td>0.1010</td>\n",
              "      <td>0.435</td>\n",
              "      <td>126.366</td>\n",
              "      <td>audio_features</td>\n",
              "      <td>spotify:track:7LRMbd3LEoV5wZJvXT1Lwb</td>\n",
              "      <td>https://api.spotify.com/v1/tracks/7LRMbd3LEoV5...</td>\n",
              "      <td>https://api.spotify.com/v1/audio-analysis/7LRM...</td>\n",
              "      <td>214667</td>\n",
              "      <td>4</td>\n",
              "    </tr>\n",
              "    <tr>\n",
              "      <th>4</th>\n",
              "      <td>1jzDzZWeSDBg5fhNc3tczV</td>\n",
              "      <td>Paranoid</td>\n",
              "      <td>132qAo1cDiEJdA3fv4xyNK</td>\n",
              "      <td>rock</td>\n",
              "      <td>0.429</td>\n",
              "      <td>0.631</td>\n",
              "      <td>4</td>\n",
              "      <td>-11.514</td>\n",
              "      <td>0</td>\n",
              "      <td>0.0769</td>\n",
              "      <td>...</td>\n",
              "      <td>0.004110</td>\n",
              "      <td>0.1750</td>\n",
              "      <td>0.376</td>\n",
              "      <td>162.734</td>\n",
              "      <td>audio_features</td>\n",
              "      <td>spotify:track:1jzDzZWeSDBg5fhNc3tczV</td>\n",
              "      <td>https://api.spotify.com/v1/tracks/1jzDzZWeSDBg...</td>\n",
              "      <td>https://api.spotify.com/v1/audio-analysis/1jzD...</td>\n",
              "      <td>168440</td>\n",
              "      <td>4</td>\n",
              "    </tr>\n",
              "  </tbody>\n",
              "</table>\n",
              "<p>5 rows × 21 columns</p>\n",
              "</div>"
            ],
            "text/plain": [
              "                       id                                               name  \\\n",
              "0  2RBcYkonAofm0rYycVrCGt                                        Lady Writer   \n",
              "1  5qlJg0Wbj3sslxfwiaRNpq  I Don't Want To Miss A Thing - From \"Armageddo...   \n",
              "2  4BP3uh0hFLFRb5cjsgLqDh                                      Fortunate Son   \n",
              "3  7LRMbd3LEoV5wZJvXT1Lwb                                             T.N.T.   \n",
              "4  1jzDzZWeSDBg5fhNc3tczV                                           Paranoid   \n",
              "\n",
              "                 album_id genre  danceability  energy  key  loudness  mode  \\\n",
              "0  2xQBCPq2gQ7l8thLUUZSKu  rock         0.633   0.809    1    -8.595     0   \n",
              "1  3fk5Yk62Lekng4NQ89980F  rock         0.390   0.649    2    -5.163     1   \n",
              "2  31q47gQszFt0CddSyMksgO  rock         0.640   0.663    0    -7.516     1   \n",
              "3  19AUoKWRAaQYrggVvdQnqq  rock         0.754   0.759    9    -5.218     1   \n",
              "4  132qAo1cDiEJdA3fv4xyNK  rock         0.429   0.631    4   -11.514     0   \n",
              "\n",
              "   speechiness  ...  instrumentalness  liveness  valence    tempo  \\\n",
              "0       0.0282  ...          0.611000    0.0726    0.964  147.916   \n",
              "1       0.0345  ...          0.000000    0.2160    0.144  121.161   \n",
              "2       0.0374  ...          0.008060    0.1520    0.663  132.770   \n",
              "3       0.3020  ...          0.000108    0.1010    0.435  126.366   \n",
              "4       0.0769  ...          0.004110    0.1750    0.376  162.734   \n",
              "\n",
              "             type                                   uri  \\\n",
              "0  audio_features  spotify:track:2RBcYkonAofm0rYycVrCGt   \n",
              "1  audio_features  spotify:track:5qlJg0Wbj3sslxfwiaRNpq   \n",
              "2  audio_features  spotify:track:4BP3uh0hFLFRb5cjsgLqDh   \n",
              "3  audio_features  spotify:track:7LRMbd3LEoV5wZJvXT1Lwb   \n",
              "4  audio_features  spotify:track:1jzDzZWeSDBg5fhNc3tczV   \n",
              "\n",
              "                                          track_href  \\\n",
              "0  https://api.spotify.com/v1/tracks/2RBcYkonAofm...   \n",
              "1  https://api.spotify.com/v1/tracks/5qlJg0Wbj3ss...   \n",
              "2  https://api.spotify.com/v1/tracks/4BP3uh0hFLFR...   \n",
              "3  https://api.spotify.com/v1/tracks/7LRMbd3LEoV5...   \n",
              "4  https://api.spotify.com/v1/tracks/1jzDzZWeSDBg...   \n",
              "\n",
              "                                        analysis_url duration_ms  \\\n",
              "0  https://api.spotify.com/v1/audio-analysis/2RBc...      224667   \n",
              "1  https://api.spotify.com/v1/audio-analysis/5qlJ...      299723   \n",
              "2  https://api.spotify.com/v1/audio-analysis/4BP3...      140773   \n",
              "3  https://api.spotify.com/v1/audio-analysis/7LRM...      214667   \n",
              "4  https://api.spotify.com/v1/audio-analysis/1jzD...      168440   \n",
              "\n",
              "   time_signature  \n",
              "0               4  \n",
              "1               4  \n",
              "2               4  \n",
              "3               4  \n",
              "4               4  \n",
              "\n",
              "[5 rows x 21 columns]"
            ]
          },
          "execution_count": 19,
          "metadata": {},
          "output_type": "execute_result"
        }
      ],
      "source": [
        "# Merge dataframes df_tracks and df_audio_features\n",
        "df_tracks_audio_features = pd.merge(\n",
        "    df_tracks,\n",
        "    df_audio_features,\n",
        "    on=\"id\",\n",
        "    how=\"inner\"\n",
        ")\n",
        "print(f'Shape audio features (after merge with tracks):', df_tracks_audio_features.shape)\n",
        "df_tracks_audio_features.head()"
      ]
    },
    {
      "cell_type": "code",
      "execution_count": null,
      "id": "a981be16",
      "metadata": {
        "id": "a981be16"
      },
      "outputs": [],
      "source": [
        "# Save df_tracks_audio_features to csv\n",
        "df_tracks_audio_features.to_csv('./datasets/tracks_audio_features.csv', index=False)"
      ]
    },
    {
      "cell_type": "code",
      "execution_count": 20,
      "id": "5420e4de",
      "metadata": {
        "id": "5420e4de"
      },
      "outputs": [
        {
          "data": {
            "text/plain": [
              "Index(['id', 'name', 'album_id', 'genre', 'danceability', 'energy', 'key',\n",
              "       'loudness', 'mode', 'speechiness', 'acousticness', 'instrumentalness',\n",
              "       'liveness', 'valence', 'tempo', 'type', 'uri', 'track_href',\n",
              "       'analysis_url', 'duration_ms', 'time_signature'],\n",
              "      dtype='object')"
            ]
          },
          "execution_count": 20,
          "metadata": {},
          "output_type": "execute_result"
        }
      ],
      "source": [
        "df_tracks_audio_features.columns"
      ]
    },
    {
      "attachments": {},
      "cell_type": "markdown",
      "id": "950a30bb",
      "metadata": {},
      "source": [
        "# EDA"
      ]
    },
    {
      "cell_type": "code",
      "execution_count": 23,
      "id": "22678bc4",
      "metadata": {},
      "outputs": [
        {
          "data": {
            "text/plain": [
              "Index(['id', 'name', 'album_id', 'genre', 'danceability', 'energy', 'key',\n",
              "       'loudness', 'mode', 'speechiness', 'acousticness', 'instrumentalness',\n",
              "       'liveness', 'valence', 'tempo', 'type', 'uri', 'track_href',\n",
              "       'analysis_url', 'duration_ms', 'time_signature'],\n",
              "      dtype='object')"
            ]
          },
          "execution_count": 23,
          "metadata": {},
          "output_type": "execute_result"
        }
      ],
      "source": [
        "#\n",
        "df_tracks_audio_features.columns"
      ]
    },
    {
      "cell_type": "code",
      "execution_count": 24,
      "id": "125af47d",
      "metadata": {},
      "outputs": [
        {
          "data": {
            "text/html": [
              "<div>\n",
              "<style scoped>\n",
              "    .dataframe tbody tr th:only-of-type {\n",
              "        vertical-align: middle;\n",
              "    }\n",
              "\n",
              "    .dataframe tbody tr th {\n",
              "        vertical-align: top;\n",
              "    }\n",
              "\n",
              "    .dataframe thead th {\n",
              "        text-align: right;\n",
              "    }\n",
              "</style>\n",
              "<table border=\"1\" class=\"dataframe\">\n",
              "  <thead>\n",
              "    <tr style=\"text-align: right;\">\n",
              "      <th></th>\n",
              "      <th>danceability</th>\n",
              "      <th>energy</th>\n",
              "      <th>key</th>\n",
              "      <th>loudness</th>\n",
              "      <th>mode</th>\n",
              "      <th>speechiness</th>\n",
              "      <th>acousticness</th>\n",
              "      <th>instrumentalness</th>\n",
              "      <th>liveness</th>\n",
              "      <th>valence</th>\n",
              "      <th>tempo</th>\n",
              "      <th>duration_ms</th>\n",
              "      <th>time_signature</th>\n",
              "    </tr>\n",
              "  </thead>\n",
              "  <tbody>\n",
              "    <tr>\n",
              "      <th>count</th>\n",
              "      <td>1127.000000</td>\n",
              "      <td>1127.000000</td>\n",
              "      <td>1127.000000</td>\n",
              "      <td>1127.000000</td>\n",
              "      <td>1127.000000</td>\n",
              "      <td>1127.000000</td>\n",
              "      <td>1127.000000</td>\n",
              "      <td>1127.000000</td>\n",
              "      <td>1127.000000</td>\n",
              "      <td>1127.000000</td>\n",
              "      <td>1127.000000</td>\n",
              "      <td>1127.000000</td>\n",
              "      <td>1127.000000</td>\n",
              "    </tr>\n",
              "    <tr>\n",
              "      <th>mean</th>\n",
              "      <td>0.655679</td>\n",
              "      <td>0.718861</td>\n",
              "      <td>5.247560</td>\n",
              "      <td>-6.089882</td>\n",
              "      <td>0.593611</td>\n",
              "      <td>0.114945</td>\n",
              "      <td>0.141565</td>\n",
              "      <td>0.023600</td>\n",
              "      <td>0.186894</td>\n",
              "      <td>0.556620</td>\n",
              "      <td>122.282106</td>\n",
              "      <td>217417.593611</td>\n",
              "      <td>3.961846</td>\n",
              "    </tr>\n",
              "    <tr>\n",
              "      <th>std</th>\n",
              "      <td>0.151123</td>\n",
              "      <td>0.166933</td>\n",
              "      <td>3.629112</td>\n",
              "      <td>2.912027</td>\n",
              "      <td>0.491377</td>\n",
              "      <td>0.106387</td>\n",
              "      <td>0.189217</td>\n",
              "      <td>0.113163</td>\n",
              "      <td>0.146366</td>\n",
              "      <td>0.220021</td>\n",
              "      <td>28.053028</td>\n",
              "      <td>55637.854100</td>\n",
              "      <td>0.275332</td>\n",
              "    </tr>\n",
              "    <tr>\n",
              "      <th>min</th>\n",
              "      <td>0.000000</td>\n",
              "      <td>0.001590</td>\n",
              "      <td>0.000000</td>\n",
              "      <td>-27.275000</td>\n",
              "      <td>0.000000</td>\n",
              "      <td>0.000000</td>\n",
              "      <td>0.000018</td>\n",
              "      <td>0.000000</td>\n",
              "      <td>0.022200</td>\n",
              "      <td>0.000000</td>\n",
              "      <td>0.000000</td>\n",
              "      <td>68963.000000</td>\n",
              "      <td>0.000000</td>\n",
              "    </tr>\n",
              "    <tr>\n",
              "      <th>25%</th>\n",
              "      <td>0.558000</td>\n",
              "      <td>0.623500</td>\n",
              "      <td>2.000000</td>\n",
              "      <td>-7.506000</td>\n",
              "      <td>0.000000</td>\n",
              "      <td>0.041350</td>\n",
              "      <td>0.012400</td>\n",
              "      <td>0.000000</td>\n",
              "      <td>0.090900</td>\n",
              "      <td>0.397000</td>\n",
              "      <td>99.975500</td>\n",
              "      <td>183193.500000</td>\n",
              "      <td>4.000000</td>\n",
              "    </tr>\n",
              "    <tr>\n",
              "      <th>50%</th>\n",
              "      <td>0.667000</td>\n",
              "      <td>0.736000</td>\n",
              "      <td>5.000000</td>\n",
              "      <td>-5.542000</td>\n",
              "      <td>1.000000</td>\n",
              "      <td>0.066600</td>\n",
              "      <td>0.061000</td>\n",
              "      <td>0.000001</td>\n",
              "      <td>0.128000</td>\n",
              "      <td>0.564000</td>\n",
              "      <td>120.040000</td>\n",
              "      <td>210227.000000</td>\n",
              "      <td>4.000000</td>\n",
              "    </tr>\n",
              "    <tr>\n",
              "      <th>75%</th>\n",
              "      <td>0.771500</td>\n",
              "      <td>0.848000</td>\n",
              "      <td>8.000000</td>\n",
              "      <td>-4.151000</td>\n",
              "      <td>1.000000</td>\n",
              "      <td>0.154500</td>\n",
              "      <td>0.188500</td>\n",
              "      <td>0.000164</td>\n",
              "      <td>0.252500</td>\n",
              "      <td>0.737000</td>\n",
              "      <td>140.022000</td>\n",
              "      <td>240233.000000</td>\n",
              "      <td>4.000000</td>\n",
              "    </tr>\n",
              "    <tr>\n",
              "      <th>max</th>\n",
              "      <td>0.967000</td>\n",
              "      <td>0.996000</td>\n",
              "      <td>11.000000</td>\n",
              "      <td>-0.016000</td>\n",
              "      <td>1.000000</td>\n",
              "      <td>0.741000</td>\n",
              "      <td>0.991000</td>\n",
              "      <td>0.951000</td>\n",
              "      <td>0.946000</td>\n",
              "      <td>0.973000</td>\n",
              "      <td>202.049000</td>\n",
              "      <td>547107.000000</td>\n",
              "      <td>5.000000</td>\n",
              "    </tr>\n",
              "  </tbody>\n",
              "</table>\n",
              "</div>"
            ],
            "text/plain": [
              "       danceability       energy          key     loudness         mode  \\\n",
              "count   1127.000000  1127.000000  1127.000000  1127.000000  1127.000000   \n",
              "mean       0.655679     0.718861     5.247560    -6.089882     0.593611   \n",
              "std        0.151123     0.166933     3.629112     2.912027     0.491377   \n",
              "min        0.000000     0.001590     0.000000   -27.275000     0.000000   \n",
              "25%        0.558000     0.623500     2.000000    -7.506000     0.000000   \n",
              "50%        0.667000     0.736000     5.000000    -5.542000     1.000000   \n",
              "75%        0.771500     0.848000     8.000000    -4.151000     1.000000   \n",
              "max        0.967000     0.996000    11.000000    -0.016000     1.000000   \n",
              "\n",
              "       speechiness  acousticness  instrumentalness     liveness      valence  \\\n",
              "count  1127.000000   1127.000000       1127.000000  1127.000000  1127.000000   \n",
              "mean      0.114945      0.141565          0.023600     0.186894     0.556620   \n",
              "std       0.106387      0.189217          0.113163     0.146366     0.220021   \n",
              "min       0.000000      0.000018          0.000000     0.022200     0.000000   \n",
              "25%       0.041350      0.012400          0.000000     0.090900     0.397000   \n",
              "50%       0.066600      0.061000          0.000001     0.128000     0.564000   \n",
              "75%       0.154500      0.188500          0.000164     0.252500     0.737000   \n",
              "max       0.741000      0.991000          0.951000     0.946000     0.973000   \n",
              "\n",
              "             tempo    duration_ms  time_signature  \n",
              "count  1127.000000    1127.000000     1127.000000  \n",
              "mean    122.282106  217417.593611        3.961846  \n",
              "std      28.053028   55637.854100        0.275332  \n",
              "min       0.000000   68963.000000        0.000000  \n",
              "25%      99.975500  183193.500000        4.000000  \n",
              "50%     120.040000  210227.000000        4.000000  \n",
              "75%     140.022000  240233.000000        4.000000  \n",
              "max     202.049000  547107.000000        5.000000  "
            ]
          },
          "execution_count": 24,
          "metadata": {},
          "output_type": "execute_result"
        }
      ],
      "source": [
        "#Realizamos una exploracion de los datos de df_tracks_audio_features\n",
        "df_tracks_audio_features.describe()\n"
      ]
    },
    {
      "cell_type": "code",
      "execution_count": 33,
      "id": "e5ce8d63",
      "metadata": {},
      "outputs": [
        {
          "data": {
            "text/plain": [
              "pop        312\n",
              "rock       296\n",
              "hip-hop    294\n",
              "k-pop      225\n",
              "Name: genre, dtype: int64"
            ]
          },
          "execution_count": 33,
          "metadata": {},
          "output_type": "execute_result"
        }
      ],
      "source": [
        "df_tracks_audio_features[\"genre\"].value_counts()"
      ]
    },
    {
      "cell_type": "code",
      "execution_count": 34,
      "id": "b0946982",
      "metadata": {},
      "outputs": [
        {
          "data": {
            "text/plain": [
              "<Axes: >"
            ]
          },
          "execution_count": 34,
          "metadata": {},
          "output_type": "execute_result"
        },
        {
          "data": {
            "image/png": "[encoded data removed]",
            "text/plain": [
              "<Figure size 640x480 with 1 Axes>"
            ]
          },
          "metadata": {},
          "output_type": "display_data"
        }
      ],
      "source": [
        "#Realizamos un grafico de barra para ver la distribucion de generos\n",
        "df_tracks_audio_features[\"genre\"].value_counts().plot(kind=\"bar\")"
      ]
    },
    {
      "cell_type": "code",
      "execution_count": 51,
      "id": "5395555e",
      "metadata": {},
      "outputs": [
        {
          "data": {
            "text/plain": [
              "<Axes: xlabel='genre', ylabel='acousticness'>"
            ]
          },
          "execution_count": 51,
          "metadata": {},
          "output_type": "execute_result"
        },
        {
          "data": {
            "image/png": "[encoded data removed]",
            "text/plain": [
              "<Figure size 640x480 with 1 Axes>"
            ]
          },
          "metadata": {},
          "output_type": "display_data"
        }
      ],
      "source": [
        "#Realizamos un grafico de violin para la distribucion de las features para cada genero\n",
        "import seaborn as sns\n",
        "import matplotlib.pyplot as plt\n",
        "\n",
        "\n",
        "sns.violinplot(x=\"genre\", y=\"acousticness\", data=df_tracks_audio_features)\n",
        "\n",
        "\n",
        "\n",
        "\n",
        "\n"
      ]
    },
    {
      "cell_type": "code",
      "execution_count": 45,
      "id": "ae60f426",
      "metadata": {},
      "outputs": [
        {
          "data": {
            "text/plain": [
              "<Axes: xlabel='genre', ylabel='danceability'>"
            ]
          },
          "execution_count": 45,
          "metadata": {},
          "output_type": "execute_result"
        }
      ],
      "source": [
        "sns.violinplot(x=\"genre\", y=\"danceability\", data=df_tracks_audio_features, ax=axes[0,1])\n"
      ]
    },
    {
      "cell_type": "code",
      "execution_count": 46,
      "id": "4185b4b9",
      "metadata": {},
      "outputs": [
        {
          "data": {
            "text/plain": [
              "<Axes: xlabel='genre', ylabel='duration_ms'>"
            ]
          },
          "execution_count": 46,
          "metadata": {},
          "output_type": "execute_result"
        }
      ],
      "source": [
        "sns.violinplot(x=\"genre\", y=\"duration_ms\", data=df_tracks_audio_features, ax=axes[0,2])\n"
      ]
    },
    {
      "cell_type": "code",
      "execution_count": 47,
      "id": "f69a4e75",
      "metadata": {},
      "outputs": [
        {
          "data": {
            "text/plain": [
              "<Axes: xlabel='genre', ylabel='energy'>"
            ]
          },
          "execution_count": 47,
          "metadata": {},
          "output_type": "execute_result"
        }
      ],
      "source": [
        "sns.violinplot(x=\"genre\", y=\"energy\", data=df_tracks_audio_features, ax=axes[1,0])\n"
      ]
    },
    {
      "cell_type": "code",
      "execution_count": 48,
      "id": "788216ce",
      "metadata": {},
      "outputs": [
        {
          "data": {
            "text/plain": [
              "<Axes: xlabel='genre', ylabel='instrumentalness'>"
            ]
          },
          "execution_count": 48,
          "metadata": {},
          "output_type": "execute_result"
        }
      ],
      "source": [
        "sns.violinplot(x=\"genre\", y=\"instrumentalness\", data=df_tracks_audio_features, ax=axes[1,1])\n"
      ]
    },
    {
      "cell_type": "code",
      "execution_count": null,
      "id": "68ea3b60",
      "metadata": {},
      "outputs": [],
      "source": [
        "sns.violinplot(x=\"genre\", y=\"key\", data=df_tracks_audio_features, ax=axes[1,2])\n",
        "sns.violinplot(x=\"genre\", y=\"liveness\", data=df_tracks_audio_features, ax=axes[2,0])\n",
        "sns.violinplot(x=\"genre\", y=\"loudness\", data=df_tracks_audio_features, ax=axes[2,1])\n",
        "sns.violinplot(x=\"genre\", y=\"mode\", data=df_tracks_audio_features, ax=axes[2,2])\n",
        "sns.violinplot(x=\"genre\", y=\"speechiness\", data=df_tracks_audio_features, ax=axes[3,0])\n",
        "sns.violinplot(x=\"genre\", y=\"tempo\", data=df_tracks_audio_features, ax=axes[3,1])\n",
        "sns.violinplot(x=\"genre\", y=\"valence\", data=df_tracks_audio_features, ax=axes[3,2])"
      ]
    }
  ],
  "metadata": {
    "colab": {
      "provenance": []
    },
    "kernelspec": {
      "display_name": "Python 3 (ipykernel)",
      "language": "python",
      "name": "python3"
    },
    "language_info": {
      "codemirror_mode": {
        "name": "ipython",
        "version": 3
      },
      "file_extension": ".py",
      "mimetype": "text/x-python",
      "name": "python",
      "nbconvert_exporter": "python",
      "pygments_lexer": "ipython3",
      "version": "3.9.12"
    }
  },
  "nbformat": 4,
  "nbformat_minor": 5
}

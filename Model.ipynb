{
 "cells": [
  {
   "attachments": {},
   "cell_type": "markdown",
   "metadata": {},
   "source": [
    "### Situacion Modelado \n",
    "Encontrar el mejor modelo para predecir el genero de las canciones, las cuales estan etiquetadas por pertenecer a una playlist de spotify con una categoria de musica dentro de los 121 generos que usa spotify. De estos 121 generos nos quedamos con 5 generos para predicr.\n",
    "Utilizaremos parte de dataset (__train_test_split__)\n"
   ]
  },
  {
   "cell_type": "code",
   "execution_count": 1,
   "metadata": {},
   "outputs": [],
   "source": [
    "#Librarys\n",
    "import pandas as pd\n",
    "import numpy as np\n",
    "import matplotlib.pyplot as plt\n",
    "import seaborn as sns\n"
   ]
  },
  {
   "attachments": {},
   "cell_type": "markdown",
   "metadata": {},
   "source": [
    "Descripcion de nuestro dataset"
   ]
  },
  {
   "cell_type": "code",
   "execution_count": 5,
   "metadata": {},
   "outputs": [],
   "source": [
    "df = pd.read_csv('./datasets/tracks_by_genre.csv')"
   ]
  },
  {
   "cell_type": "code",
   "execution_count": 6,
   "metadata": {},
   "outputs": [
    {
     "data": {
      "text/html": [
       "<div>\n",
       "<style scoped>\n",
       "    .dataframe tbody tr th:only-of-type {\n",
       "        vertical-align: middle;\n",
       "    }\n",
       "\n",
       "    .dataframe tbody tr th {\n",
       "        vertical-align: top;\n",
       "    }\n",
       "\n",
       "    .dataframe thead th {\n",
       "        text-align: right;\n",
       "    }\n",
       "</style>\n",
       "<table border=\"1\" class=\"dataframe\">\n",
       "  <thead>\n",
       "    <tr style=\"text-align: right;\">\n",
       "      <th></th>\n",
       "      <th>Unnamed: 0</th>\n",
       "      <th>id</th>\n",
       "      <th>name</th>\n",
       "      <th>album_id</th>\n",
       "      <th>genre</th>\n",
       "      <th>danceability</th>\n",
       "      <th>energy</th>\n",
       "      <th>key</th>\n",
       "      <th>loudness</th>\n",
       "      <th>mode</th>\n",
       "      <th>...</th>\n",
       "      <th>liveness</th>\n",
       "      <th>valence</th>\n",
       "      <th>tempo</th>\n",
       "      <th>type</th>\n",
       "      <th>uri</th>\n",
       "      <th>track_href</th>\n",
       "      <th>analysis_url</th>\n",
       "      <th>duration_ms</th>\n",
       "      <th>time_signature</th>\n",
       "      <th>color</th>\n",
       "    </tr>\n",
       "  </thead>\n",
       "  <tbody>\n",
       "    <tr>\n",
       "      <th>0</th>\n",
       "      <td>15</td>\n",
       "      <td>005lwxGU1tms6HGELIcUv9</td>\n",
       "      <td>I Kissed A Girl</td>\n",
       "      <td>0r2BUyPTmpbfuz4rR39mLl</td>\n",
       "      <td>pop</td>\n",
       "      <td>0.699</td>\n",
       "      <td>0.7600</td>\n",
       "      <td>5</td>\n",
       "      <td>-3.173</td>\n",
       "      <td>1</td>\n",
       "      <td>...</td>\n",
       "      <td>0.1320</td>\n",
       "      <td>0.6960</td>\n",
       "      <td>129.996</td>\n",
       "      <td>audio_features</td>\n",
       "      <td>spotify:track:005lwxGU1tms6HGELIcUv9</td>\n",
       "      <td>https://api.spotify.com/v1/tracks/005lwxGU1tms...</td>\n",
       "      <td>https://api.spotify.com/v1/audio-analysis/005l...</td>\n",
       "      <td>179640</td>\n",
       "      <td>4</td>\n",
       "      <td>[0.00196078 0.70928131 0.92328911 1.        ]</td>\n",
       "    </tr>\n",
       "    <tr>\n",
       "      <th>1</th>\n",
       "      <td>18</td>\n",
       "      <td>007kRcQoBb4BN9GywpeJAa</td>\n",
       "      <td>Solo</td>\n",
       "      <td>0nZn0G4LOzU6G4ProRExYy</td>\n",
       "      <td>rock</td>\n",
       "      <td>0.612</td>\n",
       "      <td>0.9410</td>\n",
       "      <td>10</td>\n",
       "      <td>-6.153</td>\n",
       "      <td>0</td>\n",
       "      <td>...</td>\n",
       "      <td>0.0973</td>\n",
       "      <td>0.7740</td>\n",
       "      <td>120.064</td>\n",
       "      <td>audio_features</td>\n",
       "      <td>spotify:track:007kRcQoBb4BN9GywpeJAa</td>\n",
       "      <td>https://api.spotify.com/v1/tracks/007kRcQoBb4B...</td>\n",
       "      <td>https://api.spotify.com/v1/audio-analysis/007k...</td>\n",
       "      <td>174048</td>\n",
       "      <td>4</td>\n",
       "      <td>[0.5 0.  1.  1. ]</td>\n",
       "    </tr>\n",
       "    <tr>\n",
       "      <th>2</th>\n",
       "      <td>28</td>\n",
       "      <td>00CXUMREit80f2McJsjcIz</td>\n",
       "      <td>Lieder ohne Worte (Songs without Words), Book ...</td>\n",
       "      <td>4oPL5qL3uEurG2nu1MsVwT</td>\n",
       "      <td>classical</td>\n",
       "      <td>0.355</td>\n",
       "      <td>0.0164</td>\n",
       "      <td>3</td>\n",
       "      <td>-28.659</td>\n",
       "      <td>1</td>\n",
       "      <td>...</td>\n",
       "      <td>0.0986</td>\n",
       "      <td>0.0922</td>\n",
       "      <td>67.946</td>\n",
       "      <td>audio_features</td>\n",
       "      <td>spotify:track:00CXUMREit80f2McJsjcIz</td>\n",
       "      <td>https://api.spotify.com/v1/tracks/00CXUMREit80...</td>\n",
       "      <td>https://api.spotify.com/v1/audio-analysis/00CX...</td>\n",
       "      <td>282813</td>\n",
       "      <td>4</td>\n",
       "      <td>[1.0000000e+00 1.2246468e-16 6.1232340e-17 1.0...</td>\n",
       "    </tr>\n",
       "    <tr>\n",
       "      <th>3</th>\n",
       "      <td>50</td>\n",
       "      <td>00MDdSPO6iWPZwwuF6RH89</td>\n",
       "      <td>Fluster</td>\n",
       "      <td>5zDXxceLBK4Ojz08uNZ2KB</td>\n",
       "      <td>jazz</td>\n",
       "      <td>0.504</td>\n",
       "      <td>0.1660</td>\n",
       "      <td>0</td>\n",
       "      <td>-14.374</td>\n",
       "      <td>1</td>\n",
       "      <td>...</td>\n",
       "      <td>0.1080</td>\n",
       "      <td>0.2650</td>\n",
       "      <td>120.511</td>\n",
       "      <td>audio_features</td>\n",
       "      <td>spotify:track:00MDdSPO6iWPZwwuF6RH89</td>\n",
       "      <td>https://api.spotify.com/v1/tracks/00MDdSPO6iWP...</td>\n",
       "      <td>https://api.spotify.com/v1/audio-analysis/00MD...</td>\n",
       "      <td>211958</td>\n",
       "      <td>4</td>\n",
       "      <td>[0.50392157 0.99998103 0.70492555 1.        ]</td>\n",
       "    </tr>\n",
       "    <tr>\n",
       "      <th>4</th>\n",
       "      <td>67</td>\n",
       "      <td>00TU7szqwBrxWTd9SO7ihK</td>\n",
       "      <td>Ella Uso Mi Cabeza Como Un Revolver - MTV Unpl...</td>\n",
       "      <td>5RJLKN7ucuVaRAUzNKtKB8</td>\n",
       "      <td>rock</td>\n",
       "      <td>0.396</td>\n",
       "      <td>0.7640</td>\n",
       "      <td>0</td>\n",
       "      <td>-7.348</td>\n",
       "      <td>0</td>\n",
       "      <td>...</td>\n",
       "      <td>0.7080</td>\n",
       "      <td>0.2360</td>\n",
       "      <td>82.858</td>\n",
       "      <td>audio_features</td>\n",
       "      <td>spotify:track:00TU7szqwBrxWTd9SO7ihK</td>\n",
       "      <td>https://api.spotify.com/v1/tracks/00TU7szqwBrx...</td>\n",
       "      <td>https://api.spotify.com/v1/audio-analysis/00TU...</td>\n",
       "      <td>364493</td>\n",
       "      <td>4</td>\n",
       "      <td>[0.5 0.  1.  1. ]</td>\n",
       "    </tr>\n",
       "  </tbody>\n",
       "</table>\n",
       "<p>5 rows × 23 columns</p>\n",
       "</div>"
      ],
      "text/plain": [
       "   Unnamed: 0                      id   \n",
       "0          15  005lwxGU1tms6HGELIcUv9  \\\n",
       "1          18  007kRcQoBb4BN9GywpeJAa   \n",
       "2          28  00CXUMREit80f2McJsjcIz   \n",
       "3          50  00MDdSPO6iWPZwwuF6RH89   \n",
       "4          67  00TU7szqwBrxWTd9SO7ihK   \n",
       "\n",
       "                                                name                album_id   \n",
       "0                                    I Kissed A Girl  0r2BUyPTmpbfuz4rR39mLl  \\\n",
       "1                                               Solo  0nZn0G4LOzU6G4ProRExYy   \n",
       "2  Lieder ohne Worte (Songs without Words), Book ...  4oPL5qL3uEurG2nu1MsVwT   \n",
       "3                                            Fluster  5zDXxceLBK4Ojz08uNZ2KB   \n",
       "4  Ella Uso Mi Cabeza Como Un Revolver - MTV Unpl...  5RJLKN7ucuVaRAUzNKtKB8   \n",
       "\n",
       "       genre  danceability  energy  key  loudness  mode  ...  liveness   \n",
       "0        pop         0.699  0.7600    5    -3.173     1  ...    0.1320  \\\n",
       "1       rock         0.612  0.9410   10    -6.153     0  ...    0.0973   \n",
       "2  classical         0.355  0.0164    3   -28.659     1  ...    0.0986   \n",
       "3       jazz         0.504  0.1660    0   -14.374     1  ...    0.1080   \n",
       "4       rock         0.396  0.7640    0    -7.348     0  ...    0.7080   \n",
       "\n",
       "   valence    tempo            type                                   uri   \n",
       "0   0.6960  129.996  audio_features  spotify:track:005lwxGU1tms6HGELIcUv9  \\\n",
       "1   0.7740  120.064  audio_features  spotify:track:007kRcQoBb4BN9GywpeJAa   \n",
       "2   0.0922   67.946  audio_features  spotify:track:00CXUMREit80f2McJsjcIz   \n",
       "3   0.2650  120.511  audio_features  spotify:track:00MDdSPO6iWPZwwuF6RH89   \n",
       "4   0.2360   82.858  audio_features  spotify:track:00TU7szqwBrxWTd9SO7ihK   \n",
       "\n",
       "                                          track_href   \n",
       "0  https://api.spotify.com/v1/tracks/005lwxGU1tms...  \\\n",
       "1  https://api.spotify.com/v1/tracks/007kRcQoBb4B...   \n",
       "2  https://api.spotify.com/v1/tracks/00CXUMREit80...   \n",
       "3  https://api.spotify.com/v1/tracks/00MDdSPO6iWP...   \n",
       "4  https://api.spotify.com/v1/tracks/00TU7szqwBrx...   \n",
       "\n",
       "                                        analysis_url duration_ms   \n",
       "0  https://api.spotify.com/v1/audio-analysis/005l...      179640  \\\n",
       "1  https://api.spotify.com/v1/audio-analysis/007k...      174048   \n",
       "2  https://api.spotify.com/v1/audio-analysis/00CX...      282813   \n",
       "3  https://api.spotify.com/v1/audio-analysis/00MD...      211958   \n",
       "4  https://api.spotify.com/v1/audio-analysis/00TU...      364493   \n",
       "\n",
       "  time_signature                                              color  \n",
       "0              4      [0.00196078 0.70928131 0.92328911 1.        ]  \n",
       "1              4                                  [0.5 0.  1.  1. ]  \n",
       "2              4  [1.0000000e+00 1.2246468e-16 6.1232340e-17 1.0...  \n",
       "3              4      [0.50392157 0.99998103 0.70492555 1.        ]  \n",
       "4              4                                  [0.5 0.  1.  1. ]  \n",
       "\n",
       "[5 rows x 23 columns]"
      ]
     },
     "execution_count": 6,
     "metadata": {},
     "output_type": "execute_result"
    }
   ],
   "source": [
    "df.head()"
   ]
  },
  {
   "cell_type": "code",
   "execution_count": 8,
   "metadata": {},
   "outputs": [
    {
     "name": "stdout",
     "output_type": "stream",
     "text": [
      "<class 'pandas.core.frame.DataFrame'>\n",
      "RangeIndex: 2699 entries, 0 to 2698\n",
      "Data columns (total 23 columns):\n",
      " #   Column            Non-Null Count  Dtype  \n",
      "---  ------            --------------  -----  \n",
      " 0   Unnamed: 0        2699 non-null   int64  \n",
      " 1   id                2699 non-null   object \n",
      " 2   name              2699 non-null   object \n",
      " 3   album_id          2699 non-null   object \n",
      " 4   genre             2699 non-null   object \n",
      " 5   danceability      2699 non-null   float64\n",
      " 6   energy            2699 non-null   float64\n",
      " 7   key               2699 non-null   int64  \n",
      " 8   loudness          2699 non-null   float64\n",
      " 9   mode              2699 non-null   int64  \n",
      " 10  speechiness       2699 non-null   float64\n",
      " 11  acousticness      2699 non-null   float64\n",
      " 12  instrumentalness  2699 non-null   float64\n",
      " 13  liveness          2699 non-null   float64\n",
      " 14  valence           2699 non-null   float64\n",
      " 15  tempo             2699 non-null   float64\n",
      " 16  type              2699 non-null   object \n",
      " 17  uri               2699 non-null   object \n",
      " 18  track_href        2699 non-null   object \n",
      " 19  analysis_url      2699 non-null   object \n",
      " 20  duration_ms       2699 non-null   int64  \n",
      " 21  time_signature    2699 non-null   int64  \n",
      " 22  color             2699 non-null   object \n",
      "dtypes: float64(9), int64(5), object(9)\n",
      "memory usage: 485.1+ KB\n"
     ]
    }
   ],
   "source": [
    "df.info()"
   ]
  },
  {
   "cell_type": "code",
   "execution_count": 9,
   "metadata": {},
   "outputs": [
    {
     "data": {
      "text/plain": [
       "Index(['Unnamed: 0', 'id', 'name', 'album_id', 'genre', 'danceability',\n",
       "       'energy', 'key', 'loudness', 'mode', 'speechiness', 'acousticness',\n",
       "       'instrumentalness', 'liveness', 'valence', 'tempo', 'type', 'uri',\n",
       "       'track_href', 'analysis_url', 'duration_ms', 'time_signature', 'color'],\n",
       "      dtype='object')"
      ]
     },
     "execution_count": 9,
     "metadata": {},
     "output_type": "execute_result"
    }
   ],
   "source": [
    "df.columns"
   ]
  },
  {
   "cell_type": "code",
   "execution_count": 11,
   "metadata": {},
   "outputs": [
    {
     "data": {
      "text/plain": [
       "(2699, 23)"
      ]
     },
     "execution_count": 11,
     "metadata": {},
     "output_type": "execute_result"
    }
   ],
   "source": [
    "df.shape"
   ]
  },
  {
   "attachments": {},
   "cell_type": "markdown",
   "metadata": {},
   "source": [
    "### Seleccion de features"
   ]
  },
  {
   "cell_type": "code",
   "execution_count": 12,
   "metadata": {},
   "outputs": [],
   "source": [
    "included_types = ['float64', 'int64']\n",
    "selected_columns = df.select_dtypes(include=included_types).columns\n",
    "selected_variables = df[selected_columns]"
   ]
  },
  {
   "attachments": {},
   "cell_type": "markdown",
   "metadata": {},
   "source": [
    "## Busqueda de modelo"
   ]
  },
  {
   "cell_type": "code",
   "execution_count": null,
   "metadata": {},
   "outputs": [],
   "source": []
  }
 ],
 "metadata": {
  "kernelspec": {
   "display_name": "venv",
   "language": "python",
   "name": "python3"
  },
  "language_info": {
   "codemirror_mode": {
    "name": "ipython",
    "version": 3
   },
   "file_extension": ".py",
   "mimetype": "text/x-python",
   "name": "python",
   "nbconvert_exporter": "python",
   "pygments_lexer": "ipython3",
   "version": "3.9.12"
  },
  "orig_nbformat": 4
 },
 "nbformat": 4,
 "nbformat_minor": 2
}
